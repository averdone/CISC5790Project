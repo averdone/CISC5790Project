{
 "cells": [
  {
   "cell_type": "raw",
   "id": "8902b392-8c65-45a2-84e1-c8732a03a932",
   "metadata": {},
   "source": [
    "In the "
   ]
  },
  {
   "cell_type": "code",
   "execution_count": 4,
   "id": "a1a79345-c94f-44b4-848d-eeb26a7a3265",
   "metadata": {},
   "outputs": [
    {
     "name": "stdout",
     "output_type": "stream",
     "text": [
      "Collecting scikit-learn\n",
      "  Using cached scikit_learn-1.6.1-cp311-cp311-macosx_12_0_arm64.whl.metadata (31 kB)\n",
      "Requirement already satisfied: numpy>=1.19.5 in /Library/Frameworks/Python.framework/Versions/3.11/lib/python3.11/site-packages (from scikit-learn) (2.2.2)\n",
      "Collecting scipy>=1.6.0 (from scikit-learn)\n",
      "  Downloading scipy-1.15.2-cp311-cp311-macosx_14_0_arm64.whl.metadata (61 kB)\n",
      "Collecting joblib>=1.2.0 (from scikit-learn)\n",
      "  Using cached joblib-1.4.2-py3-none-any.whl.metadata (5.4 kB)\n",
      "Collecting threadpoolctl>=3.1.0 (from scikit-learn)\n",
      "  Downloading threadpoolctl-3.6.0-py3-none-any.whl.metadata (13 kB)\n",
      "Using cached scikit_learn-1.6.1-cp311-cp311-macosx_12_0_arm64.whl (11.1 MB)\n",
      "Using cached joblib-1.4.2-py3-none-any.whl (301 kB)\n",
      "Downloading scipy-1.15.2-cp311-cp311-macosx_14_0_arm64.whl (22.4 MB)\n",
      "\u001b[2K   \u001b[90m━━━━━━━━━━━━━━━━━━━━━━━━━━━━━━━━━━━━━━━━\u001b[0m \u001b[32m22.4/22.4 MB\u001b[0m \u001b[31m6.4 MB/s\u001b[0m eta \u001b[36m0:00:00\u001b[0m00:01\u001b[0m00:01\u001b[0mm\n",
      "\u001b[?25hDownloading threadpoolctl-3.6.0-py3-none-any.whl (18 kB)\n",
      "Installing collected packages: threadpoolctl, scipy, joblib, scikit-learn\n",
      "Successfully installed joblib-1.4.2 scikit-learn-1.6.1 scipy-1.15.2 threadpoolctl-3.6.0\n"
     ]
    }
   ],
   "source": [
    "!pip install scikit-learn"
   ]
  },
  {
   "cell_type": "code",
   "execution_count": 7,
   "id": "ae1d03e3-0061-4239-b818-a57514c55c2d",
   "metadata": {},
   "outputs": [],
   "source": [
    "import pandas as pd\n",
    "pd.options.display.max_columns = None\n",
    "pd.options.display.max_rows = None\n",
    "import matplotlib.pyplot as plt\n",
    "from sklearn.model_selection import train_test_split, cross_val_predict, StratifiedKFold\n",
    "from sklearn.preprocessing import StandardScaler\n",
    "from sklearn.neighbors import KNeighborsClassifier\n",
    "from sklearn.metrics import confusion_matrix, accuracy_score, ConfusionMatrixDisplay"
   ]
  },
  {
   "cell_type": "raw",
   "id": "97b576d7-8a3e-4166-979d-baf91dc56b5e",
   "metadata": {},
   "source": [
    "Import our data from Kaggle"
   ]
  },
  {
   "cell_type": "code",
   "execution_count": 10,
   "id": "bb6327c4-1b1f-456e-baea-4c19e08f9d72",
   "metadata": {},
   "outputs": [],
   "source": [
    "# Import data\n",
    "dataset_raw = 'data/alzheimers_disease_data.csv'\n",
    "dataset_raw_df = pd.read_csv(dataset_raw)"
   ]
  },
  {
   "cell_type": "code",
   "execution_count": null,
   "id": "e4fb891d-613b-4fa5-89f7-4b4923a89af0",
   "metadata": {},
   "outputs": [],
   "source": []
  },
  {
   "cell_type": "code",
   "execution_count": 11,
   "id": "80bc17e9-9507-44aa-9323-f858c085f77a",
   "metadata": {},
   "outputs": [],
   "source": [
    "df_clean = dataset_raw_df.drop(columns=['PatientID', 'DoctorInCharge'])  # Drop IDs if present\n",
    "scaler = StandardScaler()"
   ]
  },
  {
   "cell_type": "code",
   "execution_count": null,
   "id": "a30122dc-95f9-4c41-b8de-41196c764b15",
   "metadata": {},
   "outputs": [],
   "source": []
  },
  {
   "cell_type": "code",
   "execution_count": 12,
   "id": "d77b6565-8f7b-469d-9491-261ebfe75ec4",
   "metadata": {},
   "outputs": [],
   "source": [
    "x = df_clean.drop(columns=['Diagnosis'])\n",
    "y = df_clean['Diagnosis']\n",
    "\n",
    "x_scaled = scaler.fit_transform(x)"
   ]
  },
  {
   "cell_type": "raw",
   "id": "b3b7ea4e-a1b2-4f0e-bdb3-2044e2790856",
   "metadata": {},
   "source": [
    "Next, establish the cross validation meathod that will be inserted into the model. In lecture, 5 splits was suggested to be optimal, so we will start with that."
   ]
  },
  {
   "cell_type": "code",
   "execution_count": 17,
   "id": "cda53381-c3f9-4d58-925d-4684e7b3bbc3",
   "metadata": {},
   "outputs": [],
   "source": [
    "cv = StratifiedKFold(n_splits=5, shuffle=True)"
   ]
  },
  {
   "cell_type": "code",
   "execution_count": 23,
   "id": "caed8f8f-afd8-4b0b-bef5-9ce218a9bf12",
   "metadata": {},
   "outputs": [
    {
     "name": "stdout",
     "output_type": "stream",
     "text": [
      "5 Fold Performance: Best k = 25 - Accuracy = 75.8957654723127\n"
     ]
    }
   ],
   "source": [
    "highest_accuracy = 0\n",
    "best_k = 0\n",
    "for k in range(1,200):\n",
    "    knn = KNeighborsClassifier(n_neighbors=k)\n",
    "    y_pred = cross_val_predict(knn, x_scaled, y, cv=cv)\n",
    "\n",
    "    accuracy = accuracy_score(y, y_pred) * 100\n",
    "    if(accuracy > highest_accuracy):\n",
    "        highest_accuracy = accuracy\n",
    "        best_k = k\n",
    "\n",
    "print(f\"5 Fold Performance: Best k = {best_k} - Accuracy = {highest_accuracy}\")"
   ]
  },
  {
   "cell_type": "raw",
   "id": "86fa0b00-c671-4ba1-b514-d40b2ee3389b",
   "metadata": {},
   "source": [
    "Our performance is lower than expected so I will try again with a higher fold count."
   ]
  },
  {
   "cell_type": "code",
   "execution_count": 24,
   "id": "3af6417a-df36-4b52-9e60-06a09cefb902",
   "metadata": {},
   "outputs": [
    {
     "name": "stdout",
     "output_type": "stream",
     "text": [
      "15 Fold Performance: Best k = 19 - Accuracy = 75.98883201489065\n"
     ]
    }
   ],
   "source": [
    "cv = StratifiedKFold(n_splits=15, shuffle=True)\n",
    "highest_accuracy = 0\n",
    "best_k = 0\n",
    "for k in range(1,200):\n",
    "    knn = KNeighborsClassifier(n_neighbors=k)\n",
    "    y_pred = cross_val_predict(knn, x_scaled, y, cv=cv)\n",
    "\n",
    "    accuracy = accuracy_score(y, y_pred) * 100\n",
    "    if(accuracy > highest_accuracy):\n",
    "        highest_accuracy = accuracy\n",
    "        best_k = k\n",
    "\n",
    "print(f\"15 Fold Performance: Best k = {best_k} - Accuracy = {highest_accuracy}\")"
   ]
  },
  {
   "cell_type": "raw",
   "id": "cb8d211e-63ba-4288-b2ed-610242facb58",
   "metadata": {},
   "source": [
    "Slightly better performance, but not substantial. I will incorporate the oversampled dataset that Ryan created."
   ]
  },
  {
   "cell_type": "code",
   "execution_count": 29,
   "id": "10e36140-a105-45d3-a076-81ac2a81e386",
   "metadata": {},
   "outputs": [
    {
     "name": "stdout",
     "output_type": "stream",
     "text": [
      "5 Fold Performance: Best k = 107 - Accuracy = 82.14542836573074\n"
     ]
    }
   ],
   "source": [
    "dataset_oversampled = 'data/alzheimers_disease_data_oversampled.csv'\n",
    "dataset_oversampled_df = pd.read_csv(dataset_oversampled)\n",
    "\n",
    "df_clean = dataset_oversampled_df.drop(columns=['PatientID', 'DoctorInCharge'])  # Drop IDs if present\n",
    "scaler = StandardScaler()\n",
    "x = df_clean.drop(columns=['Diagnosis'])\n",
    "y = df_clean['Diagnosis']\n",
    "x_scaled = scaler.fit_transform(x)\n",
    "cv = StratifiedKFold(n_splits=5, shuffle=True)\n",
    "highest_accuracy = 0\n",
    "best_k = 0\n",
    "for k in range(1,200):\n",
    "    knn = KNeighborsClassifier(n_neighbors=k)\n",
    "    y_pred = cross_val_predict(knn, x_scaled, y, cv=cv)\n",
    "\n",
    "    accuracy = accuracy_score(y, y_pred) * 100\n",
    "    if(accuracy > highest_accuracy):\n",
    "        highest_accuracy = accuracy\n",
    "        best_k = k\n",
    "\n",
    "print(f\"5 Fold Performance: Best k = {best_k} - Accuracy = {highest_accuracy}\")"
   ]
  },
  {
   "cell_type": "raw",
   "id": "29d14d8e-fa05-443f-ba98-d2c4af28d408",
   "metadata": {},
   "source": [
    "This returned a signifigant improvement in performance. Lets see if there is a higher accuracy with more folds, like we saw with the raw dataset."
   ]
  },
  {
   "cell_type": "code",
   "execution_count": 30,
   "id": "914f0091-2509-4906-86b0-a2ae812a5774",
   "metadata": {},
   "outputs": [
    {
     "name": "stdout",
     "output_type": "stream",
     "text": [
      "15 Fold Performance: Best k = 1 - Accuracy = 84.84521238300935\n"
     ]
    }
   ],
   "source": [
    "cv = StratifiedKFold(n_splits=15, shuffle=True)\n",
    "highest_accuracy = 0\n",
    "best_k = 0\n",
    "for k in range(1,200):\n",
    "    knn = KNeighborsClassifier(n_neighbors=k)\n",
    "    y_pred = cross_val_predict(knn, x_scaled, y, cv=cv)\n",
    "\n",
    "    accuracy = accuracy_score(y, y_pred) * 100\n",
    "    if(accuracy > highest_accuracy):\n",
    "        highest_accuracy = accuracy\n",
    "        best_k = k\n",
    "\n",
    "print(f\"15 Fold Performance: Best k = {best_k} - Accuracy = {highest_accuracy}\")"
   ]
  },
  {
   "cell_type": "raw",
   "id": "00330dff-38e0-4435-a5fd-d1e6e57b7295",
   "metadata": {},
   "source": [
    "Slightly better performance. Let's run this on the cleaned dataset that Zun created, only focusing on the most relevant features."
   ]
  },
  {
   "cell_type": "code",
   "execution_count": 31,
   "id": "4947418d-d4cb-4ede-9174-13feec016be7",
   "metadata": {},
   "outputs": [
    {
     "name": "stdout",
     "output_type": "stream",
     "text": [
      "5 Fold Performance: Best k = 5 - Accuracy = 92.22894369474174\n"
     ]
    }
   ],
   "source": [
    "dataset_cleaned = 'data/alzheimers_disease_cleaned.csv'\n",
    "dataset_cleaned_df = pd.read_csv(dataset_cleaned)\n",
    "df_clean = dataset_cleaned_df #.drop(columns=['PatientID', 'DoctorInCharge'])  # Drop IDs if present\n",
    "\n",
    "scaler = StandardScaler()\n",
    "x = df_clean.drop(columns=['Diagnosis'])\n",
    "y = df_clean['Diagnosis']\n",
    "x_scaled = scaler.fit_transform(x)\n",
    "\n",
    "cv = StratifiedKFold(n_splits=5, shuffle=True)\n",
    "highest_accuracy = 0\n",
    "best_k = 0\n",
    "for k in range(1,200):\n",
    "    knn = KNeighborsClassifier(n_neighbors=k)\n",
    "    y_pred = cross_val_predict(knn, x_scaled, y, cv=cv)\n",
    "\n",
    "    accuracy = accuracy_score(y, y_pred) * 100\n",
    "    if(accuracy > highest_accuracy):\n",
    "        highest_accuracy = accuracy\n",
    "        best_k = k\n",
    "\n",
    "print(f\"5 Fold Performance: Best k = {best_k} - Accuracy = {highest_accuracy}\")"
   ]
  },
  {
   "cell_type": "code",
   "execution_count": 21,
   "id": "b3fdd018-600c-4166-b19e-64ca427d8673",
   "metadata": {},
   "outputs": [],
   "source": [
    "cv = StratifiedKFold(n_splits=3, shuffle=True)\n",
    "cv = StratifiedKFold(n_splits=5, shuffle=True)\n",
    "cv = StratifiedKFold(n_splits=7, shuffle=True)\n",
    "cv = StratifiedKFold(n_splits=10, shuffle=True)\n",
    "cv = StratifiedKFold(n_splits=15, shuffle=True)"
   ]
  },
  {
   "cell_type": "raw",
   "id": "e6b6a802-9949-44d2-8fb1-121a7b0434d7",
   "metadata": {},
   "source": [
    "Output:\n",
    "3 Fold Performance: Best k = 3 - Accuracy = 92.22894369474174\n",
    "5 Fold Performance: Best k = 7 - Accuracy = 92.08934388087484\n",
    "7 Fold Performance: Best k = 12 - Accuracy = 92.18241042345277\n",
    "10 Fold Performance: Best k = 5 - Accuracy = 92.4616100511866\n",
    "15 Fold Performance: Best k = 5 - Accuracy = 92.69427640763146\n",
    "25 Fold Performance: Best k = 5 - Accuracy = 92.55467659376454"
   ]
  }
 ],
 "metadata": {
  "kernelspec": {
   "display_name": "Python 3 (ipykernel)",
   "language": "python",
   "name": "python3"
  },
  "language_info": {
   "codemirror_mode": {
    "name": "ipython",
    "version": 3
   },
   "file_extension": ".py",
   "mimetype": "text/x-python",
   "name": "python",
   "nbconvert_exporter": "python",
   "pygments_lexer": "ipython3",
   "version": "3.11.7"
  }
 },
 "nbformat": 4,
 "nbformat_minor": 5
}
